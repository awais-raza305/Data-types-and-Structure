{
  "nbformat": 4,
  "nbformat_minor": 0,
  "metadata": {
    "colab": {
      "provenance": []
    },
    "kernelspec": {
      "name": "python3",
      "display_name": "Python 3"
    },
    "language_info": {
      "name": "python"
    }
  },
  "cells": [
    {
      "cell_type": "markdown",
      "source": [
        "1.What are data structures, and why are they important?\n",
        "\n",
        "ANS. Data structures are organized ways to store, manage, and retrieve data efficiently. They provide a means to handle data logically and systematically, enabling algorithms to access and process information effectively.\n",
        "\n",
        "Q2.Explain the difference between mutable and immutable data types with examples.\n",
        "\n",
        "Ans. Mutable Data Types:\n",
        "\n",
        "Definition: These are data types whose values can be changed after they are created, without changing their identity (memory location).\n",
        "\n",
        "Characteristics:\n",
        "You can modify their content (add, remove, or update elements).\n",
        "They are often used when the data needs to be modified frequently.\n",
        "\n",
        "example:lists and dictionary.\n",
        "\n",
        "Immutable Data Types:\n",
        "\n",
        "Definition: These are data types whose values cannot be changed after they are created. Any operation that seems to modify the value actually creates a new object.\n",
        "\n",
        "Characteristics:If you attempt to modify them, a new object is created.\n",
        "They are useful in scenarios requiring constant data or thread safety.\n",
        "\n",
        "example: string and tuples.\n",
        "\n",
        "Q3.What are the main differences between lists and tuples in Python?\n",
        "\n",
        "Ans. Lists: Mutable, flexible, versatile, less memory-efficient, slower,Supports a variety of methods like append(), remove(), pop(), and ideal for collections of items that may change.\n",
        "\n",
        "Tuples: Immutable, faster, and more memory-efficient, suitable for fixed data, and limited methods like count() and index().\n",
        "\n",
        "Q4.Describe how dictionaries store data.\n",
        "\n",
        "Ans. Steps in Dictionary Operations\n",
        "\n",
        "Insertion:\n",
        "The key is hashed to compute its hash value.\n",
        "The hash value is mapped to a bucket index in the hash table.\n",
        "The key-value pair is stored in the corresponding bucket.\n",
        "\n",
        "Lookup:\n",
        "The hash function computes the hash value of the key.\n",
        "The hash value determines the bucket index.\n",
        "The bucket is checked for the key. If found, the associated value is returned.\n",
        "\n",
        "Deletion:\n",
        "The hash value of the key is computed to locate its bucket.\n",
        "If the key exists, the key-value pair is removed from the bucket.\n",
        "\n",
        "Q5. Why might you use a set instead of a list in Python?\n",
        "\n",
        "Ans. Here are some key reasons why you might choose a set over a list:\n",
        "\n",
        "Uniqueness of Elements:\n",
        "\n",
        "Set: Automatically ensures all elements are unique. Adding a duplicate element to a set has no effect.\n",
        "\n",
        "List: Allows duplicate elements and requires additional effort to remove or check for duplicates.\n",
        "\n",
        " Faster Membership Tests:\n",
        "\n",
        "Set: Membership checks (element in set) are much faster because sets use a hash table for storage. This makes them an O(1)O(1) operation on average.\n",
        "\n",
        "List: Membership checks require a linear search, making them 𝑂(𝑛)O(n).\n",
        "\n",
        "Built-in Set Operations:\n",
        "\n",
        "Set: Supports mathematical set operations like union, intersection, difference, and symmetric difference. These operations are efficient and concise.\n",
        "\n",
        "List: Requires more manual coding or external libraries to achieve similar functionality.\n",
        "\n",
        "Immutability:\n",
        "If you need an immutable collection with unique elements, Python provides a frozenset, which is a hashable and immutable version of a set. This is useful for keys in dictionaries or other situations requiring immutability.\n",
        "\n",
        "Q6. What is a string in Python, and how is it different from a list?\n",
        "\n",
        "Ans. A string in Python is a sequence of characters used to represent text. Strings are immutable, meaning their content cannot be changed after they are created.\n",
        "\n",
        "String:Represents textual data (characters), Immutable: Cannot modify in place, Contains only characters (text),Single, double, or triple quotes, Modifications result in a new string, Always a sequence of characters, String-specific methods (e.g., .upper()).\n",
        "\n",
        "List: Represents a collection of any data type, Mutable: Elements can be added, removed, or changed, Can contain elements of any type (int, float, string, etc.), quare brackets ([]), Elements can be directly modified in place, Can be homogeneous (same type) or heterogeneous,  List-specific methods (e.g., .append()).\n",
        "\n",
        "Q7.  How do tuples ensure data integrity in Python?\n",
        "\n",
        "Ans. Tuples ensure data integrity in Python primarily through their immutability. This characteristic makes tuples a reliable choice for scenarios where the data must remain unchanged, ensuring consistency and protection from unintended modifications.\n",
        "\n",
        "By being immutable, hashable, and structurally consistent, tuples provide a robust mechanism to ensure data integrity in Python programs.\n",
        "\n",
        "Q8. What is a hash table, and how does it relate to dictionaries in Python?\n",
        "\n",
        "Ans. A hash table is a data structure that stores key-value pairs and provides efficient lookup, insertion, and deletion operations. It achieves this efficiency by using a hash function to map keys to specific indices in an array, where the corresponding values are stored.\n",
        "\n",
        "Python dictionaries rely on hash tables to provide a fast and efficient way to store and retrieve data, making them one of the most versatile and widely used data structures in Python.\n",
        "\n",
        "Q9. Can lists contain different data types in Python?\n",
        "\n",
        "Ans. Yes, lists in Python can contain elements of different data types. Python lists are highly flexible and can hold a mix of integers, floats, strings, booleans, objects, and even other lists or complex data structures.\n",
        "\n",
        "Q10. Explain why strings are immutable in Python?\n",
        "\n",
        "Ans. Strings are immutable in Python to optimize performance, enhance security, ensure thread safety, and simplify programming. While this may seem restrictive at first, it leads to cleaner, more efficient, and more reliable code.\n",
        "\n",
        "Q11.  What advantages do dictionaries offer over lists for certain tasks?\n",
        "\n",
        "Ans. Dictionaries in Python offer several advantages over lists for certain tasks, primarily due to their key-value mapping and hash-based implementation. These features make dictionaries particularly powerful for specific use cases where lists would be less efficient or more cumbersome.\n",
        "\n",
        "Q12.  Describe a scenario where using a tuple would be preferable over a list.\n",
        "\n",
        "Ans. A tuple is preferable over a list when you need to ensure that the data remains immutable (unchangeable) after it is created. In contrast, if a list were used, the coordinates could be modified unintentionally, potentially introducing bugs. Thus, tuples are the better choice in scenarios where the data structure should remain fixed and unaltered.\n",
        "\n",
        "Q13. How do sets handle duplicate values in Python?\n",
        "\n",
        "Ans. In Python, sets automatically eliminate duplicate values. When you add elements to a set, any duplicates are ignored, and only unique values are stored. This behavior is due to the underlying implementation of sets, which uses hash-based structures to ensure each element is unique.\n",
        "\n",
        "Q14.  How does the “in” keyword work differently for lists and dictionaries?\n",
        "\n",
        "Ans. The \"in\" keyword in Python is used to check for membership, but its behavior differs between lists and dictionaries due to the underlying data structures and how they store elements.\n",
        "\n",
        "For Lists :The in keyword checks whether a specific value is present in the list.The operation involves a linear search, meaning Python iterates through the list from start to end until it finds the value (or confirms it's absent).\n",
        "\n",
        "For Dictionaries : The in keyword checks whether a specific key is present in the dictionary (not values). The operation is highly efficient because dictionaries are implemented as hash tables. Python uses the hash of the key to determine if it exists without needing to iterate through all elements.\n",
        "\n",
        "Q15. Can you modify the elements of a tuple? Explain why or why not.\n",
        "\n",
        "Ans. No, you cannot modify the elements of a tuple in Python because tuples are immutable. This immutability means that once a tuple is created, its contents (the elements it holds) cannot be changed, added to, or removed.\n",
        "\n",
        "Q16. What is a nested dictionary, and give an example of its use case?\n",
        "\n",
        "Ans. A nested dictionary in Python is a dictionary where the values themselves are dictionaries. This allows you to represent and manage hierarchical or structured data conveniently.\n",
        "\n",
        "Use Case: Storing Student Records\n",
        "\n",
        "Suppose you are managing a database of students, where each student has attributes such as their grades in different subjects. A nested dictionary is an ideal structure for this.\n",
        "\n",
        "Q17. Describe the time complexity of accessing elements in a dictionary.\n",
        "\n",
        "Ans. The time complexity of accessing elements in a dictionary in Python depends on the operation and how the dictionary is implemented. Python dictionaries are implemented using hash tables, which provide efficient average-case performance for many operations.\n",
        "\n",
        "Accessing elements in a Python dictionary is highly efficient in the average case due to the hash table implementation, with 𝑂(1)O(1) time complexity for lookups, insertions, and deletions. However, the worst case of 𝑂(n)O(n) is extremely rare in practice when the hash function and table are well-optimized.\n",
        "\n",
        "Q18. In what situations are lists preferred over dictionaries?\n",
        "\n",
        "Ans. Lists are preferred over dictionaries in Python in situations where their specific characteristics align better with the task at hand. The choice depends on factors like data structure requirements, operations, and performance.\n",
        "\n",
        "Scenario: Storing Grades for a Single Subject\n",
        "If you are storing grades for a single subject without identifying who the grades belong to:\n",
        "A list is simple and sufficient.\n",
        "A dictionary would be unnecessarily complex.\n",
        "\n",
        "Scenario: Managing Names and Scores\n",
        "\n",
        "If you also need to track which grade belongs to whom:\n",
        "A dictionary is preferred because it associates names (keys) with grades (values).\n",
        "\n",
        "Q19.  Why are dictionaries considered unordered, and how does that affect data retrieval?\n",
        "\n",
        "Ans. Dictionaries were traditionally considered unordered collections in Python before version 3.7. Starting with Python 3.7, dictionaries maintain insertion order as an implementation detail (and it became a language guarantee in Python 3.8). However, they are still conceptually unordered in the sense that:\n",
        "\n",
        "Key-Value Pair Access Is Not Sequential: You do not retrieve values based on their position (index) but by using their keys.\n",
        "\n",
        "Hashing Mechanism: Dictionaries use a hash table under the hood, so the physical arrangement of key-value pairs in memory is determined by the hash values of the keys, not the order in which they were added.\n",
        "\n",
        "Q20. Explain the difference between a list and a dictionary in terms of data retrieval.\n",
        "\n",
        "Ans. The primary difference between a list and a dictionary in terms of data retrieval lies in how data is stored, accessed, and organized.\n",
        "\n",
        "Access Method :\n",
        "\n",
        "Lists:\n",
        "Access by Index: Elements are accessed using their position (index) in the list.\n",
        "Sequential Data: Lists are ordered collections, and elements are stored sequentially.\n",
        "\n",
        "Dictionaries:\n",
        "Access by Key: Values are retrieved using their associated keys, not position.\n",
        "Key-Value Pairs: Dictionaries store data in a mapping structure (key-value pairs).\n",
        "\n",
        "Data Organization\n",
        "\n",
        "Lists:\n",
        "Organized as a collection of elements where each element is identified by an index. Suitable for sequential or homogeneous data, like a collection of numbers or names.\n",
        "\n",
        "Dictionaries:\n",
        "Organized as a mapping where each key maps to a corresponding value. Suitable for structured or heterogeneous data where key-value relationships are meaningful."
      ],
      "metadata": {
        "id": "4b2eXVQOPlz3"
      }
    },
    {
      "cell_type": "code",
      "source": [
        "# Write a code to create a string with your name and print it.\n",
        "my_name = \"Awais\"\n",
        "print(my_name)"
      ],
      "metadata": {
        "colab": {
          "base_uri": "https://localhost:8080/"
        },
        "id": "AXdbIsUmoptV",
        "outputId": "6c58737d-4e8f-4412-dee4-a4d7bc90acdc"
      },
      "execution_count": null,
      "outputs": [
        {
          "output_type": "stream",
          "name": "stdout",
          "text": [
            "Awais\n"
          ]
        }
      ]
    },
    {
      "cell_type": "code",
      "source": [
        "# Write a code to find the length of the string \"Hello World\".\n",
        "string = \"Hello World\"\n",
        "length = len(string)\n",
        "print(length)"
      ],
      "metadata": {
        "colab": {
          "base_uri": "https://localhost:8080/"
        },
        "id": "c3-OHPvFph-h",
        "outputId": "53e848b8-d504-4e79-a289-9dd4726664ca"
      },
      "execution_count": null,
      "outputs": [
        {
          "output_type": "stream",
          "name": "stdout",
          "text": [
            "11\n"
          ]
        }
      ]
    },
    {
      "cell_type": "code",
      "source": [
        "# Write a code to slice the first 3 characters from the string \"Python Programming\".\n",
        "string = \"Python Programming\"\n",
        "sliced_string = string[:3]\n",
        "print(sliced_string)"
      ],
      "metadata": {
        "colab": {
          "base_uri": "https://localhost:8080/"
        },
        "id": "eecQ1DHFqHIZ",
        "outputId": "35b056dc-281d-4fc5-eb1d-0f82e8a13bd9"
      },
      "execution_count": null,
      "outputs": [
        {
          "output_type": "stream",
          "name": "stdout",
          "text": [
            "Pyt\n"
          ]
        }
      ]
    },
    {
      "cell_type": "code",
      "source": [
        "# Write a code to convert the string \"hello\" to uppercase.\n",
        "string = \"hello\"\n",
        "uppercase_string = string.upper()\n",
        "print(uppercase_string)"
      ],
      "metadata": {
        "colab": {
          "base_uri": "https://localhost:8080/"
        },
        "id": "NMBBqxAWqkP9",
        "outputId": "12db7cc0-6617-48bc-802d-8426c865519e"
      },
      "execution_count": null,
      "outputs": [
        {
          "output_type": "stream",
          "name": "stdout",
          "text": [
            "HELLO\n"
          ]
        }
      ]
    },
    {
      "cell_type": "code",
      "source": [
        "# Write a code to replace the word \"apple\" with \"orange\" in the string \"I like apple\".\n",
        "string = \"I like apple\"\n",
        "replaced_string = string.replace(\"apple\", \"orange\")\n",
        "print(replaced_string)"
      ],
      "metadata": {
        "colab": {
          "base_uri": "https://localhost:8080/"
        },
        "id": "lZGegaoTqyeT",
        "outputId": "b4991bac-96c5-429f-dc53-e2368da97c56"
      },
      "execution_count": null,
      "outputs": [
        {
          "output_type": "stream",
          "name": "stdout",
          "text": [
            "I like orange\n"
          ]
        }
      ]
    },
    {
      "cell_type": "code",
      "source": [
        "# Write a code to create a list with numbers 1 to 5 and print it.\n",
        "my_list = [1, 2, 3, 4, 5]\n",
        "print(my_list)"
      ],
      "metadata": {
        "colab": {
          "base_uri": "https://localhost:8080/"
        },
        "id": "ITZ1cCnkrQ3S",
        "outputId": "8b2aea98-f66f-45dd-9b17-e7313a386f19"
      },
      "execution_count": null,
      "outputs": [
        {
          "output_type": "stream",
          "name": "stdout",
          "text": [
            "[1, 2, 3, 4, 5]\n"
          ]
        }
      ]
    },
    {
      "cell_type": "code",
      "source": [
        "# Write a code to append the number 10 to the list [1, 2, 3, 4].\n",
        "my_list = [1, 2, 3, 4]\n",
        "my_list.append(10)\n",
        "print(my_list)"
      ],
      "metadata": {
        "colab": {
          "base_uri": "https://localhost:8080/"
        },
        "id": "ATT1KQ5grd59",
        "outputId": "ec5f4b0c-edda-4e94-d2b6-4b4036e91aff"
      },
      "execution_count": null,
      "outputs": [
        {
          "output_type": "stream",
          "name": "stdout",
          "text": [
            "[1, 2, 3, 4, 10]\n"
          ]
        }
      ]
    },
    {
      "cell_type": "code",
      "source": [
        "# Write a code to remove the number 3 from the list [1, 2, 3, 4, 5].\n",
        "my_list = [1, 2, 3, 4, 5]\n",
        "my_list.remove(3)\n",
        "print(my_list)"
      ],
      "metadata": {
        "colab": {
          "base_uri": "https://localhost:8080/"
        },
        "id": "XfP-Fk1pr_bQ",
        "outputId": "465846a5-1430-410f-d7c8-711f2ac2988a"
      },
      "execution_count": null,
      "outputs": [
        {
          "output_type": "stream",
          "name": "stdout",
          "text": [
            "[1, 2, 4, 5]\n"
          ]
        }
      ]
    },
    {
      "cell_type": "code",
      "source": [
        "# Write a code to access the second element in the list ['a', 'b', 'c', 'd'].\n",
        "my_list = ['a', 'b', 'c', 'd']\n",
        "second_element = my_list[1]\n",
        "print(second_element)"
      ],
      "metadata": {
        "colab": {
          "base_uri": "https://localhost:8080/"
        },
        "id": "1OlTSEtwsanI",
        "outputId": "3bb9ad91-6b92-4d54-8d3e-7b38f1dbd430"
      },
      "execution_count": null,
      "outputs": [
        {
          "output_type": "stream",
          "name": "stdout",
          "text": [
            "b\n"
          ]
        }
      ]
    },
    {
      "cell_type": "code",
      "source": [
        "# Write a code to reverse the list [10, 20, 30, 40, 50].\n",
        "my_list = [10, 20, 30, 40, 50]\n",
        "reversed_list = my_list[::-1]\n",
        "print(reversed_list)"
      ],
      "metadata": {
        "colab": {
          "base_uri": "https://localhost:8080/"
        },
        "id": "EsstE4c0szwR",
        "outputId": "1bea8a4a-4615-44c0-8c71-bbe7ca28e195"
      },
      "execution_count": null,
      "outputs": [
        {
          "output_type": "stream",
          "name": "stdout",
          "text": [
            "[50, 40, 30, 20, 10]\n"
          ]
        }
      ]
    },
    {
      "cell_type": "code",
      "source": [
        "#  Write a code to create a tuple with the elements 10, 20, 30 and print it.\n",
        "my_tuple = (10, 20, 30)\n",
        "print(my_tuple)"
      ],
      "metadata": {
        "colab": {
          "base_uri": "https://localhost:8080/"
        },
        "id": "xkbzWYGRtGND",
        "outputId": "eaf649df-df2c-4992-d592-9da18faef58c"
      },
      "execution_count": null,
      "outputs": [
        {
          "output_type": "stream",
          "name": "stdout",
          "text": [
            "(10, 20, 30)\n"
          ]
        }
      ]
    },
    {
      "cell_type": "code",
      "source": [
        "# Write a code to access the first element of the tuple ('apple', 'banana', 'cherry').\n",
        "my_tuple = ('apple', 'banana', 'cherry')\n",
        "first_element = my_tuple[0]\n",
        "print(first_element)"
      ],
      "metadata": {
        "colab": {
          "base_uri": "https://localhost:8080/"
        },
        "id": "A2Ndpmlgti5q",
        "outputId": "22e8ef62-59d0-4448-b856-f9e0653ffcd9"
      },
      "execution_count": null,
      "outputs": [
        {
          "output_type": "stream",
          "name": "stdout",
          "text": [
            "apple\n"
          ]
        }
      ]
    },
    {
      "cell_type": "code",
      "source": [
        "# Write a code to count how many times the number 2 appears in the tuple (1, 2, 3, 2, 4, 2).\n",
        "my_tuple = (1, 2, 3, 2, 4, 2)\n",
        "count = my_tuple.count(2)\n",
        "print(count)"
      ],
      "metadata": {
        "colab": {
          "base_uri": "https://localhost:8080/"
        },
        "id": "1GUj0mV_tu38",
        "outputId": "427e4951-2e41-4a61-bf70-cde459e65733"
      },
      "execution_count": null,
      "outputs": [
        {
          "output_type": "stream",
          "name": "stdout",
          "text": [
            "3\n"
          ]
        }
      ]
    },
    {
      "cell_type": "code",
      "source": [
        "#  Write a code to find the index of the element \"cat\" in the tuple ('dog', 'cat', 'rabbit').\n",
        "my_tuple = ('dog', 'cat', 'rabbit')\n",
        "index = my_tuple.index('cat')\n",
        "print(index)"
      ],
      "metadata": {
        "colab": {
          "base_uri": "https://localhost:8080/"
        },
        "id": "8DuU-9CLenSF",
        "outputId": "f3545d68-9901-4377-e0be-c86bec169f87"
      },
      "execution_count": 1,
      "outputs": [
        {
          "output_type": "stream",
          "name": "stdout",
          "text": [
            "1\n"
          ]
        }
      ]
    },
    {
      "cell_type": "code",
      "source": [
        "#  Write a code to check if the element \"banana\" is in the tuple ('apple', 'orange', 'banana').\n",
        "my_tuple = ('apple', 'orange', 'banana')\n",
        "is_present = 'banana' in my_tuple\n",
        "print(is_present)"
      ],
      "metadata": {
        "colab": {
          "base_uri": "https://localhost:8080/"
        },
        "id": "4a1YUg5qey-Z",
        "outputId": "bffd10e9-25f9-4028-e72c-42ff24157724"
      },
      "execution_count": 2,
      "outputs": [
        {
          "output_type": "stream",
          "name": "stdout",
          "text": [
            "True\n"
          ]
        }
      ]
    },
    {
      "cell_type": "code",
      "source": [
        "# Write a code to create a set with the elements 1, 2, 3, 4, 5 and print it.\n",
        "my_set = {1, 2, 3, 4, 5}\n",
        "print(my_set)"
      ],
      "metadata": {
        "colab": {
          "base_uri": "https://localhost:8080/"
        },
        "id": "ykjVjod6e938",
        "outputId": "06248c4a-9a72-4a94-e913-9858c12afe8e"
      },
      "execution_count": 3,
      "outputs": [
        {
          "output_type": "stream",
          "name": "stdout",
          "text": [
            "{1, 2, 3, 4, 5}\n"
          ]
        }
      ]
    },
    {
      "cell_type": "code",
      "source": [
        "#  Write a code to add the element 6 to the set {1, 2, 3, 4}.\n",
        "my_set = {1, 2, 3, 4}\n",
        "my_set.add(6)\n",
        "print(my_set)"
      ],
      "metadata": {
        "colab": {
          "base_uri": "https://localhost:8080/"
        },
        "id": "7gQTNenSfFkB",
        "outputId": "7eaedb4e-a5e1-4965-de0f-4c98a0d83917"
      },
      "execution_count": 4,
      "outputs": [
        {
          "output_type": "stream",
          "name": "stdout",
          "text": [
            "{1, 2, 3, 4, 6}\n"
          ]
        }
      ]
    },
    {
      "cell_type": "code",
      "source": [
        "#  Write a code to create a tuple with the elements 10, 20, 30 and print it.\n",
        "my_tuple = (10, 20, 30)\n",
        "print(my_tuple)"
      ],
      "metadata": {
        "colab": {
          "base_uri": "https://localhost:8080/"
        },
        "id": "OuQzOi4JfNfR",
        "outputId": "6f5a576e-0fd8-4b3d-b7ba-58b029cdfc46"
      },
      "execution_count": 6,
      "outputs": [
        {
          "output_type": "stream",
          "name": "stdout",
          "text": [
            "(10, 20, 30)\n"
          ]
        }
      ]
    },
    {
      "cell_type": "code",
      "source": [
        "#  Write a code to access the first element of the tuple ('apple', 'banana', 'cherry').\n",
        "my_tuple = ('apple', 'banana', 'cherry')\n",
        "first_element = my_tuple[0]\n",
        "print(first_element)"
      ],
      "metadata": {
        "colab": {
          "base_uri": "https://localhost:8080/"
        },
        "id": "Yy7elLdMfVdb",
        "outputId": "92b81f78-b46f-49d9-c4d7-bb92eeba98fe"
      },
      "execution_count": 5,
      "outputs": [
        {
          "output_type": "stream",
          "name": "stdout",
          "text": [
            "apple\n"
          ]
        }
      ]
    },
    {
      "cell_type": "code",
      "source": [
        "#  Write a code to count how many times the number 2 appears in the tuple (1, 2, 3, 2, 4, 2).\n",
        "my_tuple = (1, 2, 3, 2, 4, 2)\n",
        "count = my_tuple.count(2)\n",
        "print(count)"
      ],
      "metadata": {
        "colab": {
          "base_uri": "https://localhost:8080/"
        },
        "id": "QlNh9iZ9fbu5",
        "outputId": "d3db2477-d812-47b5-f1d8-f23c33a4f7f9"
      },
      "execution_count": 7,
      "outputs": [
        {
          "output_type": "stream",
          "name": "stdout",
          "text": [
            "3\n"
          ]
        }
      ]
    },
    {
      "cell_type": "code",
      "source": [
        "#  Write a code to find the index of the element \"cat\" in the tuple ('dog', 'cat', 'rabbit').\n",
        "my_tuple = ('dog', 'cat', 'rabbit')\n",
        "index = my_tuple.index('cat')\n",
        "print(index)"
      ],
      "metadata": {
        "colab": {
          "base_uri": "https://localhost:8080/"
        },
        "id": "cjICFWm2fllD",
        "outputId": "a31f7c0a-66f3-4b3c-9f1a-ee105c636e57"
      },
      "execution_count": 8,
      "outputs": [
        {
          "output_type": "stream",
          "name": "stdout",
          "text": [
            "1\n"
          ]
        }
      ]
    },
    {
      "cell_type": "code",
      "source": [
        "#  Write a code to check if the element \"banana\" is in the tuple ('apple', 'orange', 'banana').\n",
        "my_tuple = ('apple', 'orange', 'banana')\n",
        "is_present = 'banana' in my_tuple\n",
        "print(is_present)"
      ],
      "metadata": {
        "colab": {
          "base_uri": "https://localhost:8080/"
        },
        "id": "YafWzXebfqhs",
        "outputId": "e23f5007-2ab1-4ed0-9745-8abeeaf8488d"
      },
      "execution_count": 9,
      "outputs": [
        {
          "output_type": "stream",
          "name": "stdout",
          "text": [
            "True\n"
          ]
        }
      ]
    },
    {
      "cell_type": "code",
      "source": [
        "# Write a code to create a set with the elements 1, 2, 3, 4, 5 and print it.\n",
        "my_set = {1, 2, 3, 4, 5}\n",
        "print(my_set)"
      ],
      "metadata": {
        "colab": {
          "base_uri": "https://localhost:8080/"
        },
        "id": "QzgZhpjKfw61",
        "outputId": "0496e726-271f-40ef-a0fa-9aeb49e79bb1"
      },
      "execution_count": 10,
      "outputs": [
        {
          "output_type": "stream",
          "name": "stdout",
          "text": [
            "{1, 2, 3, 4, 5}\n"
          ]
        }
      ]
    },
    {
      "cell_type": "code",
      "source": [
        "# Write a code to add the element 6 to the set {1, 2, 3, 4}.\n",
        "my_set = {1, 2, 3, 4}\n",
        "my_set.add(6)\n",
        "print(my_set)"
      ],
      "metadata": {
        "colab": {
          "base_uri": "https://localhost:8080/"
        },
        "id": "38dkB-BXf2bI",
        "outputId": "9d8bc317-9d1a-4fdd-c9a5-fe3271344732"
      },
      "execution_count": 11,
      "outputs": [
        {
          "output_type": "stream",
          "name": "stdout",
          "text": [
            "{1, 2, 3, 4, 6}\n"
          ]
        }
      ]
    }
  ]
}